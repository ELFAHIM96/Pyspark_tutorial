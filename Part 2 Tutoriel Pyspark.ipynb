{
 "cells": [
  {
   "cell_type": "markdown",
   "id": "a6e681da",
   "metadata": {},
   "source": [
    "### Pyspark Handling Missing Values\n",
    "<ul>\n",
    "<li style=\"text-align: justify;\"><strong>Dropping Columns</strong></li>\n",
    "<li style=\"text-align: justify;\"><strong>Dropping Rows</strong></li>\n",
    "<li style=\"text-align: justify;\"><strong>Various Parameter In Dropping functionnalities</strong></li>\n",
    "<li style=\"text-align: justify;\"><strong>Handling Missing values by Mean Median, and Mode </strong></li>\n",
    "</ul>"
   ]
  },
  {
   "cell_type": "code",
   "execution_count": 2,
   "id": "cf375cf8",
   "metadata": {},
   "outputs": [
    {
     "name": "stdout",
     "output_type": "stream",
     "text": [
      "22/11/19 14:24:14 WARN Utils: Your hostname, dell-5570 resolves to a loopback address: 127.0.1.1; using 10.189.123.35 instead (on interface wlp0s20f3)\n",
      "22/11/19 14:24:14 WARN Utils: Set SPARK_LOCAL_IP if you need to bind to another address\n"
     ]
    },
    {
     "name": "stderr",
     "output_type": "stream",
     "text": [
      "Setting default log level to \"WARN\".\n",
      "To adjust logging level use sc.setLogLevel(newLevel). For SparkR, use setLogLevel(newLevel).\n"
     ]
    },
    {
     "name": "stdout",
     "output_type": "stream",
     "text": [
      "22/11/19 14:24:15 WARN NativeCodeLoader: Unable to load native-hadoop library for your platform... using builtin-java classes where applicable\n",
      "22/11/19 14:24:16 WARN Utils: Service 'SparkUI' could not bind on port 4040. Attempting port 4041.\n"
     ]
    }
   ],
   "source": [
    "from pyspark.sql import SparkSession\n",
    "spark = SparkSession.builder.appName('Practise').getOrCreate()"
   ]
  },
  {
   "cell_type": "code",
   "execution_count": 8,
   "id": "7da2ea03",
   "metadata": {},
   "outputs": [],
   "source": [
    "df_pyspark = spark.read.csv('data/Noms.csv', header = True, inferSchema = True)"
   ]
  },
  {
   "cell_type": "code",
   "execution_count": 9,
   "id": "3813ee8f",
   "metadata": {},
   "outputs": [
    {
     "name": "stdout",
     "output_type": "stream",
     "text": [
      "+----------------+------+----+\n",
      "|           names|  freq| age|\n",
      "+----------------+------+----+\n",
      "|         ANTONIO|678425|  14|\n",
      "|            JOSE|594144|   5|\n",
      "|          MANUEL|590965|  21|\n",
      "|       FRANCISCO|498934|  29|\n",
      "|           DAVID|365196|  34|\n",
      "|            JUAN|346867|   5|\n",
      "|    JOSE ANTONIO|310134|  56|\n",
      "|          JAVIER|  null|   9|\n",
      "|          DANIEL|296281|  54|\n",
      "|       JOSE LUIS|293564|  55|\n",
      "|FRANCISCO JAVIER|287711|  23|\n",
      "|          CARLOS|278752|  55|\n",
      "|           JESUS|277718|null|\n",
      "|            null|  null|  59|\n",
      "|          MIGUEL|248110|  44|\n",
      "|     JOSE MANUEL|  null|null|\n",
      "|          RAFAEL|236539|null|\n",
      "+----------------+------+----+\n",
      "\n"
     ]
    }
   ],
   "source": [
    "df_pyspark.show()"
   ]
  },
  {
   "cell_type": "markdown",
   "id": "426c34f3",
   "metadata": {},
   "source": [
    "### # drop the columns "
   ]
  },
  {
   "cell_type": "code",
   "execution_count": 10,
   "id": "bb86b757",
   "metadata": {},
   "outputs": [
    {
     "name": "stdout",
     "output_type": "stream",
     "text": [
      "+------+----+\n",
      "|  freq| age|\n",
      "+------+----+\n",
      "|678425|  14|\n",
      "|594144|   5|\n",
      "|590965|  21|\n",
      "|498934|  29|\n",
      "|365196|  34|\n",
      "|346867|   5|\n",
      "|310134|  56|\n",
      "|  null|   9|\n",
      "|296281|  54|\n",
      "|293564|  55|\n",
      "|287711|  23|\n",
      "|278752|  55|\n",
      "|277718|null|\n",
      "|  null|  59|\n",
      "|248110|  44|\n",
      "|  null|null|\n",
      "|236539|null|\n",
      "+------+----+\n",
      "\n"
     ]
    }
   ],
   "source": [
    "# drop thz columns \n",
    "df_pyspark.drop('names').show()"
   ]
  },
  {
   "cell_type": "code",
   "execution_count": 12,
   "id": "c16fe8ff",
   "metadata": {},
   "outputs": [
    {
     "name": "stdout",
     "output_type": "stream",
     "text": [
      "+----------------+------+----+\n",
      "|           names|  freq| age|\n",
      "+----------------+------+----+\n",
      "|         ANTONIO|678425|  14|\n",
      "|            JOSE|594144|   5|\n",
      "|          MANUEL|590965|  21|\n",
      "|       FRANCISCO|498934|  29|\n",
      "|           DAVID|365196|  34|\n",
      "|            JUAN|346867|   5|\n",
      "|    JOSE ANTONIO|310134|  56|\n",
      "|          JAVIER|  null|   9|\n",
      "|          DANIEL|296281|  54|\n",
      "|       JOSE LUIS|293564|  55|\n",
      "|FRANCISCO JAVIER|287711|  23|\n",
      "|          CARLOS|278752|  55|\n",
      "|           JESUS|277718|null|\n",
      "|            null|  null|  59|\n",
      "|          MIGUEL|248110|  44|\n",
      "|     JOSE MANUEL|  null|null|\n",
      "|          RAFAEL|236539|null|\n",
      "+----------------+------+----+\n",
      "\n"
     ]
    }
   ],
   "source": [
    "df_pyspark.show()"
   ]
  },
  {
   "cell_type": "code",
   "execution_count": 13,
   "id": "d1b4c798",
   "metadata": {},
   "outputs": [
    {
     "name": "stdout",
     "output_type": "stream",
     "text": [
      "+----------------+------+---+\n",
      "|           names|  freq|age|\n",
      "+----------------+------+---+\n",
      "|         ANTONIO|678425| 14|\n",
      "|            JOSE|594144|  5|\n",
      "|          MANUEL|590965| 21|\n",
      "|       FRANCISCO|498934| 29|\n",
      "|           DAVID|365196| 34|\n",
      "|            JUAN|346867|  5|\n",
      "|    JOSE ANTONIO|310134| 56|\n",
      "|          DANIEL|296281| 54|\n",
      "|       JOSE LUIS|293564| 55|\n",
      "|FRANCISCO JAVIER|287711| 23|\n",
      "|          CARLOS|278752| 55|\n",
      "|          MIGUEL|248110| 44|\n",
      "+----------------+------+---+\n",
      "\n"
     ]
    }
   ],
   "source": [
    "df_pyspark.na.drop().show()"
   ]
  },
  {
   "cell_type": "code",
   "execution_count": 18,
   "id": "d2100733",
   "metadata": {},
   "outputs": [
    {
     "name": "stdout",
     "output_type": "stream",
     "text": [
      "+----------------+------+---+\n",
      "|           names|  freq|age|\n",
      "+----------------+------+---+\n",
      "|         ANTONIO|678425| 14|\n",
      "|            JOSE|594144|  5|\n",
      "|          MANUEL|590965| 21|\n",
      "|       FRANCISCO|498934| 29|\n",
      "|           DAVID|365196| 34|\n",
      "|            JUAN|346867|  5|\n",
      "|    JOSE ANTONIO|310134| 56|\n",
      "|          DANIEL|296281| 54|\n",
      "|       JOSE LUIS|293564| 55|\n",
      "|FRANCISCO JAVIER|287711| 23|\n",
      "|          CARLOS|278752| 55|\n",
      "|          MIGUEL|248110| 44|\n",
      "+----------------+------+---+\n",
      "\n"
     ]
    }
   ],
   "source": [
    "## any == how\n",
    "df_pyspark.na.drop(how = \"any\").show()"
   ]
  },
  {
   "cell_type": "code",
   "execution_count": 19,
   "id": "9a284c96",
   "metadata": {},
   "outputs": [
    {
     "name": "stdout",
     "output_type": "stream",
     "text": [
      "+----------------+------+----+\n",
      "|           names|  freq| age|\n",
      "+----------------+------+----+\n",
      "|         ANTONIO|678425|  14|\n",
      "|            JOSE|594144|   5|\n",
      "|          MANUEL|590965|  21|\n",
      "|       FRANCISCO|498934|  29|\n",
      "|           DAVID|365196|  34|\n",
      "|            JUAN|346867|   5|\n",
      "|    JOSE ANTONIO|310134|  56|\n",
      "|          JAVIER|  null|   9|\n",
      "|          DANIEL|296281|  54|\n",
      "|       JOSE LUIS|293564|  55|\n",
      "|FRANCISCO JAVIER|287711|  23|\n",
      "|          CARLOS|278752|  55|\n",
      "|           JESUS|277718|null|\n",
      "|          MIGUEL|248110|  44|\n",
      "|          RAFAEL|236539|null|\n",
      "+----------------+------+----+\n",
      "\n"
     ]
    }
   ],
   "source": [
    "## any == how , threshold\n",
    "df_pyspark.na.drop(how = \"any\", thresh = 2).show()"
   ]
  },
  {
   "cell_type": "markdown",
   "id": "99d6ef6c",
   "metadata": {},
   "source": [
    "## any == how, subset"
   ]
  },
  {
   "cell_type": "code",
   "execution_count": null,
   "id": "f7cb73ba",
   "metadata": {},
   "outputs": [],
   "source": [
    "## any == how, subset\n",
    "df_pyspark.na.drop(how = \"any\", subset = ['age']).show()"
   ]
  },
  {
   "cell_type": "markdown",
   "id": "2c0942cd",
   "metadata": {},
   "source": [
    " ### Filling the Missing Value"
   ]
  },
  {
   "cell_type": "code",
   "execution_count": 34,
   "id": "f936b5d4",
   "metadata": {},
   "outputs": [
    {
     "name": "stdout",
     "output_type": "stream",
     "text": [
      "+----------------+------+----+\n",
      "|           names|  freq| age|\n",
      "+----------------+------+----+\n",
      "|         ANTONIO|678425|  14|\n",
      "|            JOSE|594144|   5|\n",
      "|          MANUEL|590965|  21|\n",
      "|       FRANCISCO|498934|  29|\n",
      "|           DAVID|365196|  34|\n",
      "|            JUAN|346867|   5|\n",
      "|    JOSE ANTONIO|310134|  56|\n",
      "|          JAVIER|  null|   9|\n",
      "|          DANIEL|296281|  54|\n",
      "|       JOSE LUIS|293564|  55|\n",
      "|FRANCISCO JAVIER|287711|  23|\n",
      "|          CARLOS|278752|  55|\n",
      "|           JESUS|277718|null|\n",
      "|            Miii|  null|  59|\n",
      "|          MIGUEL|248110|  44|\n",
      "|     JOSE MANUEL|  null|null|\n",
      "|          RAFAEL|236539|null|\n",
      "+----------------+------+----+\n",
      "\n"
     ]
    }
   ],
   "source": [
    "fill = df_pyspark.na.fill('Miii')\n",
    "fill.show()"
   ]
  },
  {
   "cell_type": "code",
   "execution_count": 35,
   "id": "34dc27c5",
   "metadata": {},
   "outputs": [],
   "source": [
    "from pyspark.ml.feature import Imputer\n",
    "\n",
    "imputer = Imputer(\n",
    "inputCols = ['freq', 'age'],\n",
    "outputCols = [\"{}_imputed\".format(c) for c in ['freq', 'age']]\n",
    ").setStrategy(\"mean\")"
   ]
  },
  {
   "cell_type": "code",
   "execution_count": 37,
   "id": "31597b57",
   "metadata": {},
   "outputs": [
    {
     "name": "stdout",
     "output_type": "stream",
     "text": [
      "+----------------+------+----+------------+-----------+\n",
      "|           names|  freq| age|freq_imputed|age_imputed|\n",
      "+----------------+------+----+------------+-----------+\n",
      "|         ANTONIO|678425|  14|      678425|         14|\n",
      "|            JOSE|594144|   5|      594144|          5|\n",
      "|          MANUEL|590965|  21|      590965|         21|\n",
      "|       FRANCISCO|498934|  29|      498934|         29|\n",
      "|           DAVID|365196|  34|      365196|         34|\n",
      "|            JUAN|346867|   5|      346867|          5|\n",
      "|    JOSE ANTONIO|310134|  56|      310134|         56|\n",
      "|          JAVIER|  null|   9|      378810|          9|\n",
      "|          DANIEL|296281|  54|      296281|         54|\n",
      "|       JOSE LUIS|293564|  55|      293564|         55|\n",
      "|FRANCISCO JAVIER|287711|  23|      287711|         23|\n",
      "|          CARLOS|278752|  55|      278752|         55|\n",
      "|           JESUS|277718|null|      277718|         33|\n",
      "|            null|  null|  59|      378810|         59|\n",
      "|          MIGUEL|248110|  44|      248110|         44|\n",
      "|     JOSE MANUEL|  null|null|      378810|         33|\n",
      "|          RAFAEL|236539|null|      236539|         33|\n",
      "+----------------+------+----+------------+-----------+\n",
      "\n"
     ]
    }
   ],
   "source": [
    "imputer.fit(df_pyspark).transform(df_pyspark).show()"
   ]
  },
  {
   "cell_type": "code",
   "execution_count": 38,
   "id": "309ea56d",
   "metadata": {},
   "outputs": [],
   "source": [
    "imputer_median = Imputer(\n",
    "inputCols = ['freq', 'age'],\n",
    "outputCols = [\"{}_imputed\".format(c) for c in ['freq', 'age']]\n",
    ").setStrategy(\"median\")"
   ]
  },
  {
   "cell_type": "code",
   "execution_count": 39,
   "id": "0d0e6db7",
   "metadata": {},
   "outputs": [
    {
     "name": "stdout",
     "output_type": "stream",
     "text": [
      "+----------------+------+----+------------+-----------+\n",
      "|           names|  freq| age|freq_imputed|age_imputed|\n",
      "+----------------+------+----+------------+-----------+\n",
      "|         ANTONIO|678425|  14|      678425|         14|\n",
      "|            JOSE|594144|   5|      594144|          5|\n",
      "|          MANUEL|590965|  21|      590965|         21|\n",
      "|       FRANCISCO|498934|  29|      498934|         29|\n",
      "|           DAVID|365196|  34|      365196|         34|\n",
      "|            JUAN|346867|   5|      346867|          5|\n",
      "|    JOSE ANTONIO|310134|  56|      310134|         56|\n",
      "|          JAVIER|  null|   9|      296281|          9|\n",
      "|          DANIEL|296281|  54|      296281|         54|\n",
      "|       JOSE LUIS|293564|  55|      293564|         55|\n",
      "|FRANCISCO JAVIER|287711|  23|      287711|         23|\n",
      "|          CARLOS|278752|  55|      278752|         55|\n",
      "|           JESUS|277718|null|      277718|         29|\n",
      "|            null|  null|  59|      296281|         59|\n",
      "|          MIGUEL|248110|  44|      248110|         44|\n",
      "|     JOSE MANUEL|  null|null|      296281|         29|\n",
      "|          RAFAEL|236539|null|      236539|         29|\n",
      "+----------------+------+----+------------+-----------+\n",
      "\n"
     ]
    }
   ],
   "source": [
    "imputer_median.fit(df_pyspark).transform(df_pyspark).show()"
   ]
  },
  {
   "cell_type": "code",
   "execution_count": null,
   "id": "9d1786c0",
   "metadata": {},
   "outputs": [],
   "source": []
  }
 ],
 "metadata": {
  "kernelspec": {
   "display_name": "Python 3 (ipykernel)",
   "language": "python",
   "name": "python3"
  },
  "language_info": {
   "codemirror_mode": {
    "name": "ipython",
    "version": 3
   },
   "file_extension": ".py",
   "mimetype": "text/x-python",
   "name": "python",
   "nbconvert_exporter": "python",
   "pygments_lexer": "ipython3",
   "version": "3.9.13"
  }
 },
 "nbformat": 4,
 "nbformat_minor": 5
}
