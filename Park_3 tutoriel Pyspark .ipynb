{
 "cells": [
  {
   "cell_type": "markdown",
   "id": "fb892e82",
   "metadata": {},
   "source": [
    "## Pyspark dataframes\n",
    "<ul>\n",
    "<li><strong>Filter Opertion</strong></li>\n",
    "<li><strong>&amp;, |, ==</strong></li>\n",
    "<li><strong>~</strong></li>\n",
    "</ul>"
   ]
  },
  {
   "cell_type": "code",
   "execution_count": 4,
   "id": "e016426d",
   "metadata": {},
   "outputs": [],
   "source": [
    "from pyspark.sql import SparkSession\n"
   ]
  },
  {
   "cell_type": "code",
   "execution_count": 6,
   "id": "446ba5d9",
   "metadata": {},
   "outputs": [
    {
     "name": "stdout",
     "output_type": "stream",
     "text": [
      "22/11/19 15:03:27 WARN Utils: Your hostname, dell-5570 resolves to a loopback address: 127.0.1.1; using 10.189.123.35 instead (on interface wlp0s20f3)\n",
      "22/11/19 15:03:27 WARN Utils: Set SPARK_LOCAL_IP if you need to bind to another address\n"
     ]
    },
    {
     "name": "stderr",
     "output_type": "stream",
     "text": [
      "Setting default log level to \"WARN\".\n",
      "To adjust logging level use sc.setLogLevel(newLevel). For SparkR, use setLogLevel(newLevel).\n"
     ]
    },
    {
     "name": "stdout",
     "output_type": "stream",
     "text": [
      "22/11/19 15:03:27 WARN NativeCodeLoader: Unable to load native-hadoop library for your platform... using builtin-java classes where applicable\n",
      "22/11/19 15:03:28 WARN Utils: Service 'SparkUI' could not bind on port 4040. Attempting port 4041.\n",
      "22/11/19 15:03:28 WARN Utils: Service 'SparkUI' could not bind on port 4041. Attempting port 4042.\n"
     ]
    }
   ],
   "source": [
    "spark = SparkSession.builder.appName('dataframe').getOrCreate()\n"
   ]
  },
  {
   "cell_type": "code",
   "execution_count": 9,
   "id": "ad71f300",
   "metadata": {},
   "outputs": [
    {
     "name": "stdout",
     "output_type": "stream",
     "text": [
      "+----------------+------+----+\n",
      "|           names|  freq| age|\n",
      "+----------------+------+----+\n",
      "|         ANTONIO|678425|  14|\n",
      "|            JOSE|594144|   5|\n",
      "|          MANUEL|590965|  21|\n",
      "|       FRANCISCO|498934|  29|\n",
      "|           DAVID|365196|  34|\n",
      "|            JUAN|346867|   5|\n",
      "|    JOSE ANTONIO|310134|  56|\n",
      "|          JAVIER|  null|   9|\n",
      "|          DANIEL|296281|  54|\n",
      "|       JOSE LUIS|293564|  55|\n",
      "|FRANCISCO JAVIER|287711|  23|\n",
      "|          CARLOS|278752|  55|\n",
      "|           JESUS|277718|null|\n",
      "|            null|  null|  59|\n",
      "|          MIGUEL|248110|  44|\n",
      "|     JOSE MANUEL|  null|null|\n",
      "|          RAFAEL|236539|null|\n",
      "+----------------+------+----+\n",
      "\n"
     ]
    }
   ],
   "source": [
    "df_pyspark = spark.read.csv('data/Noms.csv', header = True, inferSchema = True)\n",
    "df_pyspark.show()"
   ]
  },
  {
   "cell_type": "markdown",
   "id": "e54a4ec8",
   "metadata": {},
   "source": [
    "### Filter Operation"
   ]
  },
  {
   "cell_type": "code",
   "execution_count": 11,
   "id": "53dbba19",
   "metadata": {},
   "outputs": [
    {
     "name": "stdout",
     "output_type": "stream",
     "text": [
      "+----------------+---+\n",
      "|           names|age|\n",
      "+----------------+---+\n",
      "|         ANTONIO| 14|\n",
      "|            JOSE|  5|\n",
      "|          MANUEL| 21|\n",
      "|       FRANCISCO| 29|\n",
      "|            JUAN|  5|\n",
      "|          JAVIER|  9|\n",
      "|FRANCISCO JAVIER| 23|\n",
      "+----------------+---+\n",
      "\n"
     ]
    }
   ],
   "source": [
    "### age less then 30 years\n",
    "df_pyspark.filter(\"age <=30\").select(['names', 'age']).show()"
   ]
  },
  {
   "cell_type": "code",
   "execution_count": 18,
   "id": "c031d0ef",
   "metadata": {},
   "outputs": [
    {
     "name": "stdout",
     "output_type": "stream",
     "text": [
      "+----------------+------+---+\n",
      "|           names|  freq|age|\n",
      "+----------------+------+---+\n",
      "|          MANUEL|590965| 21|\n",
      "|       FRANCISCO|498934| 29|\n",
      "|           DAVID|365196| 34|\n",
      "|    JOSE ANTONIO|310134| 56|\n",
      "|          DANIEL|296281| 54|\n",
      "|       JOSE LUIS|293564| 55|\n",
      "|FRANCISCO JAVIER|287711| 23|\n",
      "|          CARLOS|278752| 55|\n",
      "|          MIGUEL|248110| 44|\n",
      "+----------------+------+---+\n",
      "\n"
     ]
    }
   ],
   "source": [
    "df_pyspark.filter((df_pyspark['age']<=56) & (df_pyspark['age'] >= 15)).show()"
   ]
  },
  {
   "cell_type": "code",
   "execution_count": 19,
   "id": "00d59caa",
   "metadata": {},
   "outputs": [
    {
     "name": "stdout",
     "output_type": "stream",
     "text": [
      "+----------------+------+---+\n",
      "|           names|  freq|age|\n",
      "+----------------+------+---+\n",
      "|         ANTONIO|678425| 14|\n",
      "|            JOSE|594144|  5|\n",
      "|          MANUEL|590965| 21|\n",
      "|       FRANCISCO|498934| 29|\n",
      "|           DAVID|365196| 34|\n",
      "|            JUAN|346867|  5|\n",
      "|    JOSE ANTONIO|310134| 56|\n",
      "|          JAVIER|  null|  9|\n",
      "|          DANIEL|296281| 54|\n",
      "|       JOSE LUIS|293564| 55|\n",
      "|FRANCISCO JAVIER|287711| 23|\n",
      "|          CARLOS|278752| 55|\n",
      "|            null|  null| 59|\n",
      "|          MIGUEL|248110| 44|\n",
      "+----------------+------+---+\n",
      "\n"
     ]
    }
   ],
   "source": [
    "df_pyspark.filter((df_pyspark['age']<=56) | (df_pyspark['age'] >= 15)).show()"
   ]
  },
  {
   "cell_type": "code",
   "execution_count": 20,
   "id": "bf0b756b",
   "metadata": {},
   "outputs": [
    {
     "name": "stdout",
     "output_type": "stream",
     "text": [
      "+-----+----+---+\n",
      "|names|freq|age|\n",
      "+-----+----+---+\n",
      "| null|null| 59|\n",
      "+-----+----+---+\n",
      "\n"
     ]
    }
   ],
   "source": [
    "df_pyspark.filter(~(df_pyspark['age']<=56)).show()"
   ]
  },
  {
   "cell_type": "code",
   "execution_count": 21,
   "id": "02a5e690",
   "metadata": {},
   "outputs": [
    {
     "name": "stdout",
     "output_type": "stream",
     "text": [
      "+-------+------+---+\n",
      "|  names|  freq|age|\n",
      "+-------+------+---+\n",
      "|ANTONIO|678425| 14|\n",
      "|   JOSE|594144|  5|\n",
      "|   JUAN|346867|  5|\n",
      "| JAVIER|  null|  9|\n",
      "|   null|  null| 59|\n",
      "+-------+------+---+\n",
      "\n"
     ]
    }
   ],
   "source": [
    "df_pyspark.filter(~(df_pyspark['age']<=56) | ~(df_pyspark['age'] >= 15)).show()"
   ]
  },
  {
   "cell_type": "code",
   "execution_count": null,
   "id": "fd4f591a",
   "metadata": {},
   "outputs": [],
   "source": []
  }
 ],
 "metadata": {
  "kernelspec": {
   "display_name": "Python 3 (ipykernel)",
   "language": "python",
   "name": "python3"
  },
  "language_info": {
   "codemirror_mode": {
    "name": "ipython",
    "version": 3
   },
   "file_extension": ".py",
   "mimetype": "text/x-python",
   "name": "python",
   "nbconvert_exporter": "python",
   "pygments_lexer": "ipython3",
   "version": "3.9.13"
  }
 },
 "nbformat": 4,
 "nbformat_minor": 5
}
