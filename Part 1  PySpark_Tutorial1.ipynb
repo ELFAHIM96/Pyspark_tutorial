{
 "cells": [
  {
   "cell_type": "code",
   "execution_count": 1,
   "id": "68522470",
   "metadata": {},
   "outputs": [
    {
     "name": "stdout",
     "output_type": "stream",
     "text": [
      "Requirement already satisfied: pyspark in /home/omar/anaconda3/lib/python3.9/site-packages (3.3.1)\n",
      "Requirement already satisfied: py4j==0.10.9.5 in /home/omar/anaconda3/lib/python3.9/site-packages (from pyspark) (0.10.9.5)\n",
      "Note: you may need to restart the kernel to use updated packages.\n"
     ]
    }
   ],
   "source": [
    "pip install pyspark"
   ]
  },
  {
   "cell_type": "code",
   "execution_count": 2,
   "id": "866c048f",
   "metadata": {},
   "outputs": [],
   "source": [
    "import pyspark\n"
   ]
  },
  {
   "cell_type": "code",
   "execution_count": 3,
   "id": "ae808594",
   "metadata": {},
   "outputs": [
    {
     "data": {
      "text/html": [
       "<div>\n",
       "<style scoped>\n",
       "    .dataframe tbody tr th:only-of-type {\n",
       "        vertical-align: middle;\n",
       "    }\n",
       "\n",
       "    .dataframe tbody tr th {\n",
       "        vertical-align: top;\n",
       "    }\n",
       "\n",
       "    .dataframe thead th {\n",
       "        text-align: right;\n",
       "    }\n",
       "</style>\n",
       "<table border=\"1\" class=\"dataframe\">\n",
       "  <thead>\n",
       "    <tr style=\"text-align: right;\">\n",
       "      <th></th>\n",
       "      <th>Nombre</th>\n",
       "      <th>Frecuencia</th>\n",
       "    </tr>\n",
       "  </thead>\n",
       "  <tbody>\n",
       "    <tr>\n",
       "      <th>0</th>\n",
       "      <td>ANTONIO</td>\n",
       "      <td>678425</td>\n",
       "    </tr>\n",
       "    <tr>\n",
       "      <th>1</th>\n",
       "      <td>JOSE</td>\n",
       "      <td>594144</td>\n",
       "    </tr>\n",
       "    <tr>\n",
       "      <th>2</th>\n",
       "      <td>MANUEL</td>\n",
       "      <td>590965</td>\n",
       "    </tr>\n",
       "    <tr>\n",
       "      <th>3</th>\n",
       "      <td>FRANCISCO</td>\n",
       "      <td>498934</td>\n",
       "    </tr>\n",
       "    <tr>\n",
       "      <th>4</th>\n",
       "      <td>DAVID</td>\n",
       "      <td>365196</td>\n",
       "    </tr>\n",
       "    <tr>\n",
       "      <th>...</th>\n",
       "      <td>...</td>\n",
       "      <td>...</td>\n",
       "    </tr>\n",
       "    <tr>\n",
       "      <th>50731</th>\n",
       "      <td>ZELIA MARIA</td>\n",
       "      <td>20</td>\n",
       "    </tr>\n",
       "    <tr>\n",
       "      <th>50732</th>\n",
       "      <td>ZITA MARIA</td>\n",
       "      <td>20</td>\n",
       "    </tr>\n",
       "    <tr>\n",
       "      <th>50733</th>\n",
       "      <td>ZIWEI</td>\n",
       "      <td>20</td>\n",
       "    </tr>\n",
       "    <tr>\n",
       "      <th>50734</th>\n",
       "      <td>ZOILA ESTHER</td>\n",
       "      <td>20</td>\n",
       "    </tr>\n",
       "    <tr>\n",
       "      <th>50735</th>\n",
       "      <td>ZULMA MARIA</td>\n",
       "      <td>20</td>\n",
       "    </tr>\n",
       "  </tbody>\n",
       "</table>\n",
       "<p>50736 rows × 2 columns</p>\n",
       "</div>"
      ],
      "text/plain": [
       "             Nombre  Frecuencia\n",
       "0           ANTONIO      678425\n",
       "1              JOSE      594144\n",
       "2            MANUEL      590965\n",
       "3         FRANCISCO      498934\n",
       "4             DAVID      365196\n",
       "...             ...         ...\n",
       "50731   ZELIA MARIA          20\n",
       "50732    ZITA MARIA          20\n",
       "50733         ZIWEI          20\n",
       "50734  ZOILA ESTHER          20\n",
       "50735   ZULMA MARIA          20\n",
       "\n",
       "[50736 rows x 2 columns]"
      ]
     },
     "execution_count": 3,
     "metadata": {},
     "output_type": "execute_result"
    }
   ],
   "source": [
    "import pandas as pd\n",
    "pd.read_csv('data/names.csv')"
   ]
  },
  {
   "cell_type": "code",
   "execution_count": 4,
   "id": "5b8c684e",
   "metadata": {},
   "outputs": [],
   "source": [
    "from pyspark.sql import SparkSession"
   ]
  },
  {
   "cell_type": "code",
   "execution_count": 5,
   "id": "450ff548",
   "metadata": {},
   "outputs": [
    {
     "name": "stdout",
     "output_type": "stream",
     "text": [
      "22/11/19 14:07:12 WARN Utils: Your hostname, dell-5570 resolves to a loopback address: 127.0.1.1; using 10.189.123.35 instead (on interface wlp0s20f3)\n",
      "22/11/19 14:07:12 WARN Utils: Set SPARK_LOCAL_IP if you need to bind to another address\n"
     ]
    },
    {
     "name": "stderr",
     "output_type": "stream",
     "text": [
      "Setting default log level to \"WARN\".\n",
      "To adjust logging level use sc.setLogLevel(newLevel). For SparkR, use setLogLevel(newLevel).\n"
     ]
    },
    {
     "name": "stdout",
     "output_type": "stream",
     "text": [
      "22/11/19 14:07:13 WARN NativeCodeLoader: Unable to load native-hadoop library for your platform... using builtin-java classes where applicable\n"
     ]
    }
   ],
   "source": [
    "spark = SparkSession.builder.appName('Practise').getOrCreate()"
   ]
  },
  {
   "cell_type": "code",
   "execution_count": 6,
   "id": "c1d17d83",
   "metadata": {},
   "outputs": [
    {
     "data": {
      "text/html": [
       "\n",
       "            <div>\n",
       "                <p><b>SparkSession - in-memory</b></p>\n",
       "                \n",
       "        <div>\n",
       "            <p><b>SparkContext</b></p>\n",
       "\n",
       "            <p><a href=\"http://10.189.123.35:4040\">Spark UI</a></p>\n",
       "\n",
       "            <dl>\n",
       "              <dt>Version</dt>\n",
       "                <dd><code>v3.3.1</code></dd>\n",
       "              <dt>Master</dt>\n",
       "                <dd><code>local[*]</code></dd>\n",
       "              <dt>AppName</dt>\n",
       "                <dd><code>Practise</code></dd>\n",
       "            </dl>\n",
       "        </div>\n",
       "        \n",
       "            </div>\n",
       "        "
      ],
      "text/plain": [
       "<pyspark.sql.session.SparkSession at 0x7f5e9b3360d0>"
      ]
     },
     "execution_count": 6,
     "metadata": {},
     "output_type": "execute_result"
    }
   ],
   "source": [
    "spark"
   ]
  },
  {
   "cell_type": "code",
   "execution_count": 7,
   "id": "6e207806",
   "metadata": {},
   "outputs": [],
   "source": [
    "df_pyspark = spark.read.csv('data/names.csv')"
   ]
  },
  {
   "cell_type": "code",
   "execution_count": 8,
   "id": "e7b248c8",
   "metadata": {},
   "outputs": [
    {
     "name": "stdout",
     "output_type": "stream",
     "text": [
      "+----------------+----------+\n",
      "|             _c0|       _c1|\n",
      "+----------------+----------+\n",
      "|          Nombre|Frecuencia|\n",
      "|         ANTONIO|    678425|\n",
      "|            JOSE|    594144|\n",
      "|          MANUEL|    590965|\n",
      "|       FRANCISCO|    498934|\n",
      "|           DAVID|    365196|\n",
      "|            JUAN|    346867|\n",
      "|    JOSE ANTONIO|    310134|\n",
      "|          JAVIER|    306504|\n",
      "|          DANIEL|    296281|\n",
      "|       JOSE LUIS|    293564|\n",
      "|FRANCISCO JAVIER|    287711|\n",
      "|          CARLOS|    278752|\n",
      "|           JESUS|    277718|\n",
      "|       ALEJANDRO|    259146|\n",
      "|          MIGUEL|    248110|\n",
      "|     JOSE MANUEL|    242609|\n",
      "|          RAFAEL|    236539|\n",
      "|    MIGUEL ANGEL|    227734|\n",
      "|           PEDRO|    225485|\n",
      "+----------------+----------+\n",
      "only showing top 20 rows\n",
      "\n"
     ]
    }
   ],
   "source": [
    "df_pyspark.show()"
   ]
  },
  {
   "cell_type": "code",
   "execution_count": 9,
   "id": "0b69ed8a",
   "metadata": {},
   "outputs": [],
   "source": [
    "df_pyspark = spark.read.option('header', 'true').csv('data/names.csv')"
   ]
  },
  {
   "cell_type": "code",
   "execution_count": 10,
   "id": "b0cc823a",
   "metadata": {},
   "outputs": [
    {
     "data": {
      "text/plain": [
       "pyspark.sql.dataframe.DataFrame"
      ]
     },
     "execution_count": 10,
     "metadata": {},
     "output_type": "execute_result"
    }
   ],
   "source": [
    "type(df_pyspark)"
   ]
  },
  {
   "cell_type": "code",
   "execution_count": 11,
   "id": "90804423",
   "metadata": {},
   "outputs": [
    {
     "data": {
      "text/plain": [
       "[Row(Nombre='ANTONIO', Frecuencia='678425'),\n",
       " Row(Nombre='JOSE', Frecuencia='594144'),\n",
       " Row(Nombre='MANUEL', Frecuencia='590965')]"
      ]
     },
     "execution_count": 11,
     "metadata": {},
     "output_type": "execute_result"
    }
   ],
   "source": [
    "df_pyspark.head(3)"
   ]
  },
  {
   "cell_type": "code",
   "execution_count": 12,
   "id": "32b5be0c",
   "metadata": {},
   "outputs": [
    {
     "name": "stdout",
     "output_type": "stream",
     "text": [
      "root\n",
      " |-- Nombre: string (nullable = true)\n",
      " |-- Frecuencia: string (nullable = true)\n",
      "\n"
     ]
    }
   ],
   "source": [
    "df_pyspark.printSchema()"
   ]
  },
  {
   "cell_type": "markdown",
   "id": "b8fea0ea",
   "metadata": {},
   "source": [
    "<ul>\n",
    "<li><strong>PySpark Datarame</strong></li>\n",
    "<li><strong>Reading the Dataset</strong></li>\n",
    "<li><strong>Checking the Datatypes of the Column (Shema)</strong></li>\n",
    "<li><strong>Selecting Columns and indexing&nbsp;</strong></li>\n",
    "<li><strong>Check describe option similar to Pandas</strong></li>\n",
    "<li><strong>Adding Columns&nbsp;</strong></li>\n",
    "<li><strong>Dropping columns&nbsp;</strong></li>\n",
    "</ul>"
   ]
  },
  {
   "cell_type": "code",
   "execution_count": 13,
   "id": "fe196687",
   "metadata": {},
   "outputs": [],
   "source": [
    "from pyspark.sql import SparkSession "
   ]
  },
  {
   "cell_type": "code",
   "execution_count": 14,
   "id": "006e5393",
   "metadata": {},
   "outputs": [
    {
     "name": "stdout",
     "output_type": "stream",
     "text": [
      "22/11/19 14:07:20 WARN SparkSession: Using an existing Spark session; only runtime SQL configurations will take effect.\n"
     ]
    }
   ],
   "source": [
    "spark = SparkSession.builder.appName('Dataframe').getOrCreate()"
   ]
  },
  {
   "cell_type": "code",
   "execution_count": 15,
   "id": "cb9125ca",
   "metadata": {},
   "outputs": [
    {
     "data": {
      "text/html": [
       "\n",
       "            <div>\n",
       "                <p><b>SparkSession - in-memory</b></p>\n",
       "                \n",
       "        <div>\n",
       "            <p><b>SparkContext</b></p>\n",
       "\n",
       "            <p><a href=\"http://10.189.123.35:4040\">Spark UI</a></p>\n",
       "\n",
       "            <dl>\n",
       "              <dt>Version</dt>\n",
       "                <dd><code>v3.3.1</code></dd>\n",
       "              <dt>Master</dt>\n",
       "                <dd><code>local[*]</code></dd>\n",
       "              <dt>AppName</dt>\n",
       "                <dd><code>Practise</code></dd>\n",
       "            </dl>\n",
       "        </div>\n",
       "        \n",
       "            </div>\n",
       "        "
      ],
      "text/plain": [
       "<pyspark.sql.session.SparkSession at 0x7f5e9b3360d0>"
      ]
     },
     "execution_count": 15,
     "metadata": {},
     "output_type": "execute_result"
    }
   ],
   "source": [
    "spark"
   ]
  },
  {
   "cell_type": "markdown",
   "id": "e9124dfd",
   "metadata": {},
   "source": [
    "### 1. read dataset"
   ]
  },
  {
   "cell_type": "code",
   "execution_count": 34,
   "id": "aa191475",
   "metadata": {},
   "outputs": [],
   "source": [
    "df_pyspark = spark.read.option('header', 'true').csv('data/names.csv')"
   ]
  },
  {
   "cell_type": "code",
   "execution_count": 35,
   "id": "d0ab9aa7",
   "metadata": {},
   "outputs": [
    {
     "name": "stdout",
     "output_type": "stream",
     "text": [
      "root\n",
      " |-- Nombre: string (nullable = true)\n",
      " |-- Frecuencia: string (nullable = true)\n",
      "\n"
     ]
    }
   ],
   "source": [
    "df_pyspark.printSchema()"
   ]
  },
  {
   "cell_type": "code",
   "execution_count": 36,
   "id": "79dbe08d",
   "metadata": {},
   "outputs": [
    {
     "data": {
      "text/plain": [
       "pyspark.sql.dataframe.DataFrame"
      ]
     },
     "execution_count": 36,
     "metadata": {},
     "output_type": "execute_result"
    }
   ],
   "source": [
    "type(df_pyspark)"
   ]
  },
  {
   "cell_type": "code",
   "execution_count": 37,
   "id": "13f56773",
   "metadata": {},
   "outputs": [
    {
     "data": {
      "text/plain": [
       "['Nombre', 'Frecuencia']"
      ]
     },
     "execution_count": 37,
     "metadata": {},
     "output_type": "execute_result"
    }
   ],
   "source": [
    "df_pyspark.columns"
   ]
  },
  {
   "cell_type": "code",
   "execution_count": 38,
   "id": "4867230a",
   "metadata": {},
   "outputs": [
    {
     "data": {
      "text/plain": [
       "[Row(Nombre='ANTONIO', Frecuencia='678425'),\n",
       " Row(Nombre='JOSE', Frecuencia='594144'),\n",
       " Row(Nombre='MANUEL', Frecuencia='590965')]"
      ]
     },
     "execution_count": 38,
     "metadata": {},
     "output_type": "execute_result"
    }
   ],
   "source": [
    "df_pyspark.head(3)"
   ]
  },
  {
   "cell_type": "code",
   "execution_count": 39,
   "id": "5714aaff",
   "metadata": {},
   "outputs": [
    {
     "name": "stdout",
     "output_type": "stream",
     "text": [
      "+----------------+----------+\n",
      "|          Nombre|Frecuencia|\n",
      "+----------------+----------+\n",
      "|         ANTONIO|    678425|\n",
      "|            JOSE|    594144|\n",
      "|          MANUEL|    590965|\n",
      "|       FRANCISCO|    498934|\n",
      "|           DAVID|    365196|\n",
      "|            JUAN|    346867|\n",
      "|    JOSE ANTONIO|    310134|\n",
      "|          JAVIER|    306504|\n",
      "|          DANIEL|    296281|\n",
      "|       JOSE LUIS|    293564|\n",
      "|FRANCISCO JAVIER|    287711|\n",
      "|          CARLOS|    278752|\n",
      "|           JESUS|    277718|\n",
      "|       ALEJANDRO|    259146|\n",
      "|          MIGUEL|    248110|\n",
      "|     JOSE MANUEL|    242609|\n",
      "|          RAFAEL|    236539|\n",
      "|    MIGUEL ANGEL|    227734|\n",
      "|           PEDRO|    225485|\n",
      "|           ANGEL|    220709|\n",
      "+----------------+----------+\n",
      "only showing top 20 rows\n",
      "\n"
     ]
    }
   ],
   "source": [
    "df_pyspark.show()"
   ]
  },
  {
   "cell_type": "code",
   "execution_count": 40,
   "id": "1132377a",
   "metadata": {},
   "outputs": [
    {
     "name": "stdout",
     "output_type": "stream",
     "text": [
      "+----------------+\n",
      "|          Nombre|\n",
      "+----------------+\n",
      "|         ANTONIO|\n",
      "|            JOSE|\n",
      "|          MANUEL|\n",
      "|       FRANCISCO|\n",
      "|           DAVID|\n",
      "|            JUAN|\n",
      "|    JOSE ANTONIO|\n",
      "|          JAVIER|\n",
      "|          DANIEL|\n",
      "|       JOSE LUIS|\n",
      "|FRANCISCO JAVIER|\n",
      "|          CARLOS|\n",
      "|           JESUS|\n",
      "|       ALEJANDRO|\n",
      "|          MIGUEL|\n",
      "|     JOSE MANUEL|\n",
      "|          RAFAEL|\n",
      "|    MIGUEL ANGEL|\n",
      "|           PEDRO|\n",
      "|           ANGEL|\n",
      "+----------------+\n",
      "only showing top 20 rows\n",
      "\n"
     ]
    }
   ],
   "source": [
    "## how to pick up thz nombre columns\n",
    "df_pyspark.select(['Nombre']).show() # ['Nombre', \"columns1\"]"
   ]
  },
  {
   "cell_type": "code",
   "execution_count": 41,
   "id": "06da56a5",
   "metadata": {},
   "outputs": [
    {
     "data": {
      "text/plain": [
       "Column<'Nombre'>"
      ]
     },
     "execution_count": 41,
     "metadata": {},
     "output_type": "execute_result"
    }
   ],
   "source": [
    "df_pyspark['Nombre']"
   ]
  },
  {
   "cell_type": "markdown",
   "id": "833605a0",
   "metadata": {},
   "source": [
    "### Checking Describe Options"
   ]
  },
  {
   "cell_type": "code",
   "execution_count": 42,
   "id": "3d0c182f",
   "metadata": {},
   "outputs": [
    {
     "name": "stderr",
     "output_type": "stream",
     "text": [
      "                                                                                \r"
     ]
    },
    {
     "data": {
      "text/plain": [
       "DataFrame[summary: string, Nombre: string, Frecuencia: string]"
      ]
     },
     "execution_count": 42,
     "metadata": {},
     "output_type": "execute_result"
    }
   ],
   "source": [
    "df_pyspark.describe()"
   ]
  },
  {
   "cell_type": "code",
   "execution_count": 43,
   "id": "13ca2425",
   "metadata": {},
   "outputs": [
    {
     "data": {
      "text/plain": [
       "DataFrame[Nombre: string, Frecuencia: string, Frecuencia gather then 400000: boolean]"
      ]
     },
     "execution_count": 43,
     "metadata": {},
     "output_type": "execute_result"
    }
   ],
   "source": [
    "### Adding Columns in data Frame\n",
    "df_pyspark.withColumn('Frecuencia gather then 400000', df_pyspark['Frecuencia']>400000)\n"
   ]
  },
  {
   "cell_type": "code",
   "execution_count": 44,
   "id": "1b2b0026",
   "metadata": {},
   "outputs": [
    {
     "data": {
      "text/plain": [
       "DataFrame[Nombre: string, Frecuencia: string]"
      ]
     },
     "execution_count": 44,
     "metadata": {},
     "output_type": "execute_result"
    }
   ],
   "source": [
    "#### Drop teh columns \n",
    "df_pyspark.drop('Experience After 2 years')"
   ]
  },
  {
   "cell_type": "code",
   "execution_count": 47,
   "id": "89b1fad0",
   "metadata": {},
   "outputs": [
    {
     "data": {
      "text/plain": [
       "DataFrame[names: string, Frecuencia: string]"
      ]
     },
     "execution_count": 47,
     "metadata": {},
     "output_type": "execute_result"
    }
   ],
   "source": [
    "df_pyspark.withColumnRenamed('Nombre', \"names\")"
   ]
  },
  {
   "cell_type": "code",
   "execution_count": null,
   "id": "c4d3d397",
   "metadata": {},
   "outputs": [],
   "source": []
  },
  {
   "cell_type": "code",
   "execution_count": null,
   "id": "b86a2269",
   "metadata": {},
   "outputs": [],
   "source": []
  }
 ],
 "metadata": {
  "kernelspec": {
   "display_name": "Python 3 (ipykernel)",
   "language": "python",
   "name": "python3"
  },
  "language_info": {
   "codemirror_mode": {
    "name": "ipython",
    "version": 3
   },
   "file_extension": ".py",
   "mimetype": "text/x-python",
   "name": "python",
   "nbconvert_exporter": "python",
   "pygments_lexer": "ipython3",
   "version": "3.9.13"
  }
 },
 "nbformat": 4,
 "nbformat_minor": 5
}
